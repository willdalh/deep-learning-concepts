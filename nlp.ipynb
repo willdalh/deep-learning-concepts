{
 "cells": [
  {
   "cell_type": "markdown",
   "metadata": {},
   "source": [
    "# Natural Language Processing (NLP)\n",
    "Språkteknologi (NLP på engelsk) fikk en boost etter at [Transformer-arkitekturen](https://arxiv.org/abs/1706.03762) ble introdusert i 2017. Denne arkitekturen danner grunnlaget for de aller fleste tjenestene som kombinerer AI og språk idag, der ChatGPT er et godt eksempel. \n",
    "\n",
    "Siden da har [Hugging Face](huggingface.co) dukket opp som plattform som forsøker å tilgjengeliggjøre datasett, implementasjoner og erfaringer innen NLP. Av den grunn vil denne notebooken ta i bruk bibliotekene som tilbys fra dem. "
   ]
  },
  {
   "cell_type": "markdown",
   "metadata": {},
   "source": [
    "## Fyll inn det manglende ordet"
   ]
  },
  {
   "cell_type": "code",
   "execution_count": 1,
   "metadata": {},
   "outputs": [
    {
     "data": {
      "application/vnd.jupyter.widget-view+json": {
       "model_id": "0748456443994e7c96744e4bfb5c74e2",
       "version_major": 2,
       "version_minor": 0
      },
      "text/plain": [
       "Downloading (…)lve/main/config.json:   0%|          | 0.00/746 [00:00<?, ?B/s]"
      ]
     },
     "metadata": {},
     "output_type": "display_data"
    },
    {
     "data": {
      "application/vnd.jupyter.widget-view+json": {
       "model_id": "c52d1aaaac0141dcb38b1db4ed1a77c2",
       "version_major": 2,
       "version_minor": 0
      },
      "text/plain": [
       "Downloading model.safetensors:   0%|          | 0.00/714M [00:00<?, ?B/s]"
      ]
     },
     "metadata": {},
     "output_type": "display_data"
    },
    {
     "data": {
      "application/vnd.jupyter.widget-view+json": {
       "model_id": "4b5ef34ab9b64c2ea3d7c448f9e84be0",
       "version_major": 2,
       "version_minor": 0
      },
      "text/plain": [
       "Downloading (…)okenizer_config.json:   0%|          | 0.00/363 [00:00<?, ?B/s]"
      ]
     },
     "metadata": {},
     "output_type": "display_data"
    },
    {
     "data": {
      "application/vnd.jupyter.widget-view+json": {
       "model_id": "b474860308ce4758a6ed933f0420551a",
       "version_major": 2,
       "version_minor": 0
      },
      "text/plain": [
       "Downloading (…)solve/main/vocab.txt:   0%|          | 0.00/996k [00:00<?, ?B/s]"
      ]
     },
     "metadata": {},
     "output_type": "display_data"
    },
    {
     "data": {
      "application/vnd.jupyter.widget-view+json": {
       "model_id": "5c1d05239d7d44fca095dd8131e0ffdf",
       "version_major": 2,
       "version_minor": 0
      },
      "text/plain": [
       "Downloading (…)cial_tokens_map.json:   0%|          | 0.00/112 [00:00<?, ?B/s]"
      ]
     },
     "metadata": {},
     "output_type": "display_data"
    }
   ],
   "source": [
    "from transformers import pipeline\n",
    "unmasker = pipeline('fill-mask', model='NbAiLab/nb-bert-base')"
   ]
  },
  {
   "cell_type": "code",
   "execution_count": 4,
   "metadata": {},
   "outputs": [
    {
     "data": {
      "text/plain": [
       "[{'score': 0.5338510274887085,\n",
       "  'token': 19061,\n",
       "  'token_str': 'journal',\n",
       "  'sequence': 'Sykehusene bruker elektronisk journal.'},\n",
       " {'score': 0.10540317744016647,\n",
       "  'token': 15623,\n",
       "  'token_str': 'katalog',\n",
       "  'sequence': 'Sykehusene bruker elektronisk katalog.'},\n",
       " {'score': 0.08050142973661423,\n",
       "  'token': 11841,\n",
       "  'token_str': 'post',\n",
       "  'sequence': 'Sykehusene bruker elektronisk post.'},\n",
       " {'score': 0.023109378293156624,\n",
       "  'token': 54332,\n",
       "  'token_str': 'kode',\n",
       "  'sequence': 'Sykehusene bruker elektronisk kode.'},\n",
       " {'score': 0.02191219851374626,\n",
       "  'token': 27246,\n",
       "  'token_str': 'multimedia',\n",
       "  'sequence': 'Sykehusene bruker elektronisk multimedia.'}]"
      ]
     },
     "execution_count": 4,
     "metadata": {},
     "output_type": "execute_result"
    }
   ],
   "source": [
    "res = unmasker(\"Sykehusene bruker elektronisk [MASK].\")\n",
    "res"
   ]
  },
  {
   "cell_type": "markdown",
   "metadata": {},
   "source": [
    "## Sammenlikne setninger"
   ]
  },
  {
   "cell_type": "code",
   "execution_count": 5,
   "metadata": {},
   "outputs": [
    {
     "data": {
      "application/vnd.jupyter.widget-view+json": {
       "model_id": "dd0900751e7840b8ae5956197609af1d",
       "version_major": 2,
       "version_minor": 0
      },
      "text/plain": [
       "Downloading (…)b71b8/.gitattributes:   0%|          | 0.00/1.48k [00:00<?, ?B/s]"
      ]
     },
     "metadata": {},
     "output_type": "display_data"
    },
    {
     "data": {
      "application/vnd.jupyter.widget-view+json": {
       "model_id": "c9f08ef762bd4878a282354e51bc561a",
       "version_major": 2,
       "version_minor": 0
      },
      "text/plain": [
       "Downloading (…)_Pooling/config.json:   0%|          | 0.00/190 [00:00<?, ?B/s]"
      ]
     },
     "metadata": {},
     "output_type": "display_data"
    },
    {
     "data": {
      "application/vnd.jupyter.widget-view+json": {
       "model_id": "13536f11476f43f9b2636cdafb9fdf06",
       "version_major": 2,
       "version_minor": 0
      },
      "text/plain": [
       "Downloading (…)c5599b71b8/README.md:   0%|          | 0.00/9.49k [00:00<?, ?B/s]"
      ]
     },
     "metadata": {},
     "output_type": "display_data"
    },
    {
     "data": {
      "application/vnd.jupyter.widget-view+json": {
       "model_id": "e4a3376985704751bc129f92765cb523",
       "version_major": 2,
       "version_minor": 0
      },
      "text/plain": [
       "Downloading (…)599b71b8/config.json:   0%|          | 0.00/853 [00:00<?, ?B/s]"
      ]
     },
     "metadata": {},
     "output_type": "display_data"
    },
    {
     "data": {
      "application/vnd.jupyter.widget-view+json": {
       "model_id": "8b9b34cf2cd144c98cb6e060b6561011",
       "version_major": 2,
       "version_minor": 0
      },
      "text/plain": [
       "Downloading (…)ce_transformers.json:   0%|          | 0.00/124 [00:00<?, ?B/s]"
      ]
     },
     "metadata": {},
     "output_type": "display_data"
    },
    {
     "data": {
      "application/vnd.jupyter.widget-view+json": {
       "model_id": "f783a505621140c4aae510db3ca43c0b",
       "version_major": 2,
       "version_minor": 0
      },
      "text/plain": [
       "Downloading (…)_sts-dev_results.csv:   0%|          | 0.00/1.89k [00:00<?, ?B/s]"
      ]
     },
     "metadata": {},
     "output_type": "display_data"
    },
    {
     "data": {
      "application/vnd.jupyter.widget-view+json": {
       "model_id": "89b6fabd955544e98bf42d142bd45370",
       "version_major": 2,
       "version_minor": 0
      },
      "text/plain": [
       "Downloading pytorch_model.bin:   0%|          | 0.00/711M [00:00<?, ?B/s]"
      ]
     },
     "metadata": {},
     "output_type": "display_data"
    },
    {
     "data": {
      "application/vnd.jupyter.widget-view+json": {
       "model_id": "dfbc36afede54a3495e7773d887ae0ca",
       "version_major": 2,
       "version_minor": 0
      },
      "text/plain": [
       "Downloading (…)nce_bert_config.json:   0%|          | 0.00/52.0 [00:00<?, ?B/s]"
      ]
     },
     "metadata": {},
     "output_type": "display_data"
    },
    {
     "data": {
      "application/vnd.jupyter.widget-view+json": {
       "model_id": "b8cf05131981439a9db0134fc70b7819",
       "version_major": 2,
       "version_minor": 0
      },
      "text/plain": [
       "Downloading (…)sts-test_results.csv:   0%|          | 0.00/298 [00:00<?, ?B/s]"
      ]
     },
     "metadata": {},
     "output_type": "display_data"
    },
    {
     "data": {
      "application/vnd.jupyter.widget-view+json": {
       "model_id": "4abe6d2c7e20471bb0f4aba95f13614c",
       "version_major": 2,
       "version_minor": 0
      },
      "text/plain": [
       "Downloading (…)cial_tokens_map.json:   0%|          | 0.00/125 [00:00<?, ?B/s]"
      ]
     },
     "metadata": {},
     "output_type": "display_data"
    },
    {
     "data": {
      "application/vnd.jupyter.widget-view+json": {
       "model_id": "8c131475c4564009b26231682705c91a",
       "version_major": 2,
       "version_minor": 0
      },
      "text/plain": [
       "Downloading (…)b71b8/tokenizer.json:   0%|          | 0.00/2.92M [00:00<?, ?B/s]"
      ]
     },
     "metadata": {},
     "output_type": "display_data"
    },
    {
     "data": {
      "application/vnd.jupyter.widget-view+json": {
       "model_id": "4db3578ef14a43b583224651273f8d84",
       "version_major": 2,
       "version_minor": 0
      },
      "text/plain": [
       "Downloading (…)okenizer_config.json:   0%|          | 0.00/377 [00:00<?, ?B/s]"
      ]
     },
     "metadata": {},
     "output_type": "display_data"
    },
    {
     "data": {
      "application/vnd.jupyter.widget-view+json": {
       "model_id": "0f7618edcdfa4643b6ead84448678339",
       "version_major": 2,
       "version_minor": 0
      },
      "text/plain": [
       "Downloading (…)c5599b71b8/vocab.txt:   0%|          | 0.00/996k [00:00<?, ?B/s]"
      ]
     },
     "metadata": {},
     "output_type": "display_data"
    },
    {
     "data": {
      "application/vnd.jupyter.widget-view+json": {
       "model_id": "f2fab0fdd744412abe17f2990ee7aba0",
       "version_major": 2,
       "version_minor": 0
      },
      "text/plain": [
       "Downloading (…)99b71b8/modules.json:   0%|          | 0.00/229 [00:00<?, ?B/s]"
      ]
     },
     "metadata": {},
     "output_type": "display_data"
    }
   ],
   "source": [
    "from sentence_transformers import SentenceTransformer, util\n",
    "\n",
    "model = SentenceTransformer('NbAiLab/nb-sbert-base')"
   ]
  },
  {
   "cell_type": "code",
   "execution_count": 8,
   "metadata": {},
   "outputs": [
    {
     "name": "stdout",
     "output_type": "stream",
     "text": [
      "(768,)\n"
     ]
    }
   ],
   "source": [
    "anchor = \"Jeg liker å spise is.\"\n",
    "anchor_embedding = model.encode(anchor)\n",
    "print(anchor_embedding.shape)"
   ]
  },
  {
   "cell_type": "code",
   "execution_count": 9,
   "metadata": {},
   "outputs": [
    {
     "name": "stdout",
     "output_type": "stream",
     "text": [
      "(2, 768)\n"
     ]
    }
   ],
   "source": [
    "sentences = [\"Is er veldig godt\", \"Norske sykehus bruker elektronisk pasientjournal.\"]\n",
    "sentence_embeddings = model.encode(sentences)\n",
    "print(sentence_embeddings.shape)"
   ]
  },
  {
   "cell_type": "code",
   "execution_count": 10,
   "metadata": {},
   "outputs": [
    {
     "name": "stdout",
     "output_type": "stream",
     "text": [
      "Similarities with the sentence 'Jeg liker å spise is.':\n",
      "Is er veldig godt: 0.733\n",
      "Norske sykehus bruker elektronisk pasientjournal.: 0.061\n"
     ]
    }
   ],
   "source": [
    "similarities_with_anchor = []\n",
    "for emb in sentence_embeddings:\n",
    "    cos_sim = util.cos_sim(anchor_embedding, emb).item()\n",
    "    similarities_with_anchor.append(cos_sim)\n",
    "\n",
    "print(f\"Similarities with the sentence '{anchor}':\")\n",
    "for i, sentence in enumerate(sentences):\n",
    "    print(f\"{sentence}: {similarities_with_anchor[i]:.3f}\")"
   ]
  },
  {
   "cell_type": "markdown",
   "metadata": {},
   "source": [
    "## Likhetssøk i database"
   ]
  },
  {
   "cell_type": "code",
   "execution_count": 11,
   "metadata": {},
   "outputs": [],
   "source": [
    "from autofaiss import build_index"
   ]
  },
  {
   "cell_type": "code",
   "execution_count": 12,
   "metadata": {},
   "outputs": [],
   "source": [
    "sentences = [ \n",
    "    \"På norske sykehus brukes det elektroniske pasientjournaler\", \n",
    "    \"Bier er viktige for pollinering av mange av våre matvekster.\",  \n",
    "    \"Mange nordmenn elsker å gå på ski om vinteren.\",  \n",
    "    \"Astronomi er studiet av universet og dets himmellegemer.\",  \n",
    "    \"Sjokolade er en populær godbit som lages fra kakaobønner.\",  \n",
    "    \"Fotball er en av de mest populære sportene i verden.\",  \n",
    "    \"Paris er kjent for sin arkitektur, mat og mote.\",  \n",
    "    \"Elefanter er det største landdyret på jorden.\",  \n",
    "    \"Bøker er en viktig kilde til kunnskap og underholdning.\",  \n",
    "    \"Musikk er en universell form for kunst som uttrykker følelser og ideer.\",  \n",
    "    \"Klimaendringer er en stor utfordring for verden i dag.\",\n",
    "    \"Taco er vanlig å spise på fredager\"\n",
    "]  \n",
    "\n",
    "embeddings = model.encode(sentences)"
   ]
  },
  {
   "cell_type": "code",
   "execution_count": 13,
   "metadata": {},
   "outputs": [
    {
     "name": "stderr",
     "output_type": "stream",
     "text": [
      "2023-10-27 14:40:24,899 [INFO]: Using 20 omp threads (processes), consider increasing --nb_cores if you have more\n",
      "2023-10-27 14:40:24,902 [INFO]: Launching the whole pipeline 10/27/2023, 14:40:24\n",
      "2023-10-27 14:40:24,903 [INFO]: Reading total number of vectors and dimension 10/27/2023, 14:40:24\n",
      "100%|██████████| 1/1 [00:00<00:00, 3637.73it/s]\n",
      "2023-10-27 14:40:24,944 [INFO]: There are 12 embeddings of dim 768\n",
      "2023-10-27 14:40:24,945 [INFO]: >>> Finished \"Reading total number of vectors and dimension\" in 0.0412 secs\n",
      "2023-10-27 14:40:24,946 [INFO]: \tCompute estimated construction time of the index 10/27/2023, 14:40:24\n",
      "2023-10-27 14:40:24,947 [INFO]: \t\t-> Train: 16.7 minutes\n",
      "2023-10-27 14:40:24,948 [INFO]: \t\t-> Add: 0.0 seconds\n",
      "2023-10-27 14:40:24,949 [INFO]: \t\tTotal: 16.7 minutes\n",
      "2023-10-27 14:40:24,950 [INFO]: \t>>> Finished \"Compute estimated construction time of the index\" in 0.0031 secs\n",
      "2023-10-27 14:40:24,951 [INFO]: \tChecking that your have enough memory available to create the index 10/27/2023, 14:40:24\n",
      "2023-10-27 14:40:24,954 [INFO]: 39.6KB of memory will be needed to build the index (more might be used if you have more)\n",
      "2023-10-27 14:40:24,957 [INFO]: \t>>> Finished \"Checking that your have enough memory available to create the index\" in 0.0040 secs\n",
      "2023-10-27 14:40:24,958 [INFO]: \tSelecting most promising index types given data characteristics 10/27/2023, 14:40:24\n",
      "2023-10-27 14:40:24,959 [INFO]: \t>>> Finished \"Selecting most promising index types given data characteristics\" in 0.0000 secs\n",
      "2023-10-27 14:40:24,960 [INFO]: \tCreating the index 10/27/2023, 14:40:24\n",
      "2023-10-27 14:40:24,961 [INFO]: \t\t-> Instanciate the index Flat 10/27/2023, 14:40:24\n",
      "2023-10-27 14:40:24,965 [INFO]: \t\t>>> Finished \"-> Instanciate the index Flat\" in 0.0024 secs\n",
      "2023-10-27 14:40:24,967 [INFO]: \t\t-> Adding the vectors to the index 10/27/2023, 14:40:24\n",
      "2023-10-27 14:40:24,967 [INFO]: The memory available for adding the vectors is 32.0GB(total available - used by the index)\n",
      "2023-10-27 14:40:24,968 [INFO]: Using a batch size of 325520 (memory overhead 953.7MB)\n",
      "100%|██████████| 1/1 [00:00<00:00, 46.04it/s]\n",
      "2023-10-27 14:40:24,998 [INFO]: \tComputing best hyperparameters for index /workspaces/deep-learning-concepts/knn.index 10/27/2023, 14:40:24\n",
      "2023-10-27 14:40:24,999 [INFO]: \t>>> Finished \"Computing best hyperparameters for index /workspaces/deep-learning-concepts/knn.index\" in 0.0000 secs\n",
      "2023-10-27 14:40:25,000 [INFO]: The best hyperparameters are: \n",
      "2023-10-27 14:40:25,000 [INFO]: \tCompute fast metrics 10/27/2023, 14:40:25\n",
      "  0%|          | 0/1 [00:00<?, ?it/s]\n",
      "2023-10-27 14:40:25,046 [INFO]: \t>>> Finished \"Compute fast metrics\" in 0.0451 secs\n",
      "2023-10-27 14:40:25,047 [INFO]: \t\t>>> Finished \"-> Adding the vectors to the index\" in 0.0798 secs\n",
      "2023-10-27 14:40:25,048 [INFO]: {\n",
      "2023-10-27 14:40:25,049 [INFO]: \tindex_key: Flat\n",
      "2023-10-27 14:40:25,049 [INFO]: \tindex_param: \n",
      "2023-10-27 14:40:25,050 [INFO]: \tindex_path: /workspaces/deep-learning-concepts/knn.index\n",
      "2023-10-27 14:40:25,051 [INFO]: \tsize in bytes: 36909\n",
      "2023-10-27 14:40:25,051 [INFO]: \tavg_search_speed_ms: 0.011232546911852983\n",
      "2023-10-27 14:40:25,052 [INFO]: \t99p_search_speed_ms: 0.08581963922551958\n",
      "2023-10-27 14:40:25,053 [INFO]: \treconstruction error %: 0.0\n",
      "2023-10-27 14:40:25,054 [INFO]: \tnb vectors: 12\n",
      "2023-10-27 14:40:25,055 [INFO]: \tvectors dimension: 768\n",
      "2023-10-27 14:40:25,055 [INFO]: \tcompression ratio: 0.9987807851743478\n",
      "2023-10-27 14:40:25,056 [INFO]: }\n",
      "2023-10-27 14:40:25,058 [INFO]: \t>>> Finished \"Creating the index\" in 0.0966 secs\n",
      "2023-10-27 14:40:25,058 [INFO]: >>> Finished \"Launching the whole pipeline\" in 0.1547 secs\n"
     ]
    }
   ],
   "source": [
    "index, index_infos = build_index(embeddings, save_on_disk=False)"
   ]
  }
 ],
 "metadata": {
  "kernelspec": {
   "display_name": "ml",
   "language": "python",
   "name": "python3"
  },
  "language_info": {
   "codemirror_mode": {
    "name": "ipython",
    "version": 3
   },
   "file_extension": ".py",
   "mimetype": "text/x-python",
   "name": "python",
   "nbconvert_exporter": "python",
   "pygments_lexer": "ipython3",
   "version": "3.10.13"
  }
 },
 "nbformat": 4,
 "nbformat_minor": 2
}
