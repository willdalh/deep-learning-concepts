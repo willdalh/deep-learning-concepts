{
 "cells": [
  {
   "cell_type": "code",
   "execution_count": 1,
   "metadata": {},
   "outputs": [
    {
     "name": "stdout",
     "output_type": "stream",
     "text": [
      "\u001b[33mWARNING: Running pip as the 'root' user can result in broken permissions and conflicting behaviour with the system package manager. It is recommended to use a virtual environment instead: https://pip.pypa.io/warnings/venv\u001b[0m\u001b[33m\n",
      "\u001b[0m"
     ]
    }
   ],
   "source": [
    "!python -m pip install --user -q -r ../requirements.txt"
   ]
  },
  {
   "cell_type": "code",
   "execution_count": 2,
   "metadata": {},
   "outputs": [],
   "source": [
    "import torch"
   ]
  },
  {
   "cell_type": "markdown",
   "metadata": {},
   "source": [
    "# Indeksering\n",
    "\n",
    "Når vi jobber med tensorer er det vanlig at vi ønsker å ekstrahere spesifikke data fra dem. Akkurat som Python-lister, kan vi hente ut bestemte elementer. Vi vil alltid få tilbake en tensor, og hvis resultatet inneholder bare ett tall, kan vi bruke `.item()` for å få en Python-datatype."
   ]
  },
  {
   "cell_type": "code",
   "execution_count": 3,
   "metadata": {},
   "outputs": [
    {
     "name": "stdout",
     "output_type": "stream",
     "text": [
      "tensor(1.)\n",
      "1.0\n"
     ]
    }
   ],
   "source": [
    "tensor = torch.Tensor([1, 2, 3])\n",
    "print(tensor[0])\n",
    "print(tensor[0].item())"
   ]
  },
  {
   "cell_type": "markdown",
   "metadata": {},
   "source": [
    "Hvis tensoren har flere shape-dimensjoner, må vi indeksere oss gjennom disse."
   ]
  },
  {
   "cell_type": "code",
   "execution_count": 4,
   "metadata": {},
   "outputs": [
    {
     "name": "stdout",
     "output_type": "stream",
     "text": [
      "tensor([4., 5., 6.])\n",
      "tensor(6.)\n"
     ]
    }
   ],
   "source": [
    "tensor = torch.Tensor([[1, 2, 3], [4, 5, 6]])\n",
    "print(tensor[1]) # Returns the second row\n",
    "print(tensor[1][2]) # Returns the third element of the second row"
   ]
  },
  {
   "cell_type": "markdown",
   "metadata": {},
   "source": [
    "Siste linje kan skrives mer kompakt:"
   ]
  },
  {
   "cell_type": "code",
   "execution_count": 5,
   "metadata": {},
   "outputs": [
    {
     "data": {
      "text/plain": [
       "tensor(6.)"
      ]
     },
     "execution_count": 5,
     "metadata": {},
     "output_type": "execute_result"
    }
   ],
   "source": [
    "tensor[1, 2]"
   ]
  },
  {
   "cell_type": "markdown",
   "metadata": {},
   "source": [
    "## Indeksere med grenser\n",
    "Noe som også er mulig i Python-lister, er at man kan indeksere med grenser."
   ]
  },
  {
   "cell_type": "code",
   "execution_count": 6,
   "metadata": {},
   "outputs": [
    {
     "data": {
      "text/plain": [
       "tensor([2., 3., 4.])"
      ]
     },
     "execution_count": 6,
     "metadata": {},
     "output_type": "execute_result"
    }
   ],
   "source": [
    "tensor = torch.Tensor([1, 2, 3, 4, 5, 6])\n",
    "tensor[1:4] # Returns a tensor with elements from index 1 to 3"
   ]
  },
  {
   "cell_type": "code",
   "execution_count": 7,
   "metadata": {},
   "outputs": [
    {
     "data": {
      "text/plain": [
       "tensor([1., 2., 3., 4.])"
      ]
     },
     "execution_count": 7,
     "metadata": {},
     "output_type": "execute_result"
    }
   ],
   "source": [
    "tensor[:4] # Returns the first four elements"
   ]
  },
  {
   "cell_type": "code",
   "execution_count": 8,
   "metadata": {},
   "outputs": [
    {
     "data": {
      "text/plain": [
       "tensor([4., 5., 6.])"
      ]
     },
     "execution_count": 8,
     "metadata": {},
     "output_type": "execute_result"
    }
   ],
   "source": [
    "tensor[3:] # Returns the last three elements"
   ]
  },
  {
   "cell_type": "code",
   "execution_count": 9,
   "metadata": {},
   "outputs": [
    {
     "data": {
      "text/plain": [
       "tensor([1., 2., 3., 4.])"
      ]
     },
     "execution_count": 9,
     "metadata": {},
     "output_type": "execute_result"
    }
   ],
   "source": [
    "tensor[:-2] # Returns all elements except the last two"
   ]
  },
  {
   "cell_type": "code",
   "execution_count": 10,
   "metadata": {},
   "outputs": [
    {
     "data": {
      "text/plain": [
       "tensor([[5., 6.],\n",
       "        [8., 9.]])"
      ]
     },
     "execution_count": 10,
     "metadata": {},
     "output_type": "execute_result"
    }
   ],
   "source": [
    "tensor = torch.Tensor([\n",
    "    [1, 2, 3], \n",
    "    [4, 5, 6], \n",
    "    [7, 8, 9], \n",
    "    [10, 11, 12]\n",
    "])\n",
    "tensor[1:3, 1:3] # Returns a tensor with rows 1 and 2, columns 1 and 2"
   ]
  },
  {
   "cell_type": "markdown",
   "metadata": {},
   "source": [
    "En spesiell variant av indeksering må til hvis vi ønsker å hente ut bestemte elementer på tvers av shape-dimensjoner. Vi ser på et eksempel med en tensor som inneholder to matriser. "
   ]
  },
  {
   "cell_type": "code",
   "execution_count": 11,
   "metadata": {},
   "outputs": [
    {
     "data": {
      "text/plain": [
       "tensor([ 4., 10.])"
      ]
     },
     "execution_count": 11,
     "metadata": {},
     "output_type": "execute_result"
    }
   ],
   "source": [
    "tensor = torch.Tensor([\n",
    "    [\n",
    "        [1, 2, 3], \n",
    "        [4, 5, 6]\n",
    "    ], \n",
    "    [\n",
    "        [7, 8, 9], \n",
    "        [10, 11, 12]\n",
    "    ]\n",
    "])\n",
    "tensor[:, 1, 0] # Where : means all elements on that axis"
   ]
  },
  {
   "cell_type": "markdown",
   "metadata": {},
   "source": [
    "Ved å bruke `:` på den første shape-dimensjonen returneres hele tensoren, og de etterfølgende indekseringene utføres på alt innhold langs den. Med andre ord returneres det første elementet på andre rad i hver matrise.\n",
    "\n",
    "Vi kan også indeksere med `:` på den andre shape-dimensjonen. "
   ]
  },
  {
   "cell_type": "code",
   "execution_count": 12,
   "metadata": {},
   "outputs": [
    {
     "data": {
      "text/plain": [
       "tensor([ 7., 10.])"
      ]
     },
     "execution_count": 12,
     "metadata": {},
     "output_type": "execute_result"
    }
   ],
   "source": [
    "tensor[1, :, 0] "
   ]
  },
  {
   "cell_type": "markdown",
   "metadata": {},
   "source": [
    "Først indekseres den andre matrisen, før det første elementer fra hver rad hentes ut. \n",
    "\n",
    "Man kan også bruke `:` som siste indeks, men dette har ikke noe effekt siden operatoren returnerer alt innhold."
   ]
  },
  {
   "cell_type": "code",
   "execution_count": 13,
   "metadata": {},
   "outputs": [
    {
     "name": "stdout",
     "output_type": "stream",
     "text": [
      "tensor[1, 1, :] returns tensor([10., 11., 12.])\n",
      "tensor[1, 1] returns tensor([10., 11., 12.])\n",
      "tensor[1, 1, :] is the same as tensor[1, 1]: True\n"
     ]
    }
   ],
   "source": [
    "print(f\"tensor[1, 1, :] returns {tensor[1, 1, :]}\")\n",
    "print(f\"tensor[1, 1] returns {tensor[1, 1]}\")\n",
    "print(f\"tensor[1, 1, :] is the same as tensor[1, 1]: {torch.allclose(tensor[1, 1, :], tensor[1, 1])}\")\n"
   ]
  },
  {
   "cell_type": "markdown",
   "metadata": {},
   "source": [
    "## Indeksere med tensorer\n",
    "Det er mulig å samle indekseringer i tensorer og indeksere med dem. Vi bruker da `LongTensor`. Si at man vil ha hjørnene i en $3 \\times 3$ matrise."
   ]
  },
  {
   "cell_type": "code",
   "execution_count": 14,
   "metadata": {},
   "outputs": [
    {
     "name": "stdout",
     "output_type": "stream",
     "text": [
      "Element at row 0 and column 0 is 1.0\n",
      "Element at row 0 and column 2 is 3.0\n",
      "Element at row 2 and column 0 is 7.0\n",
      "Element at row 2 and column 2 is 9.0\n"
     ]
    },
    {
     "data": {
      "text/plain": [
       "tensor([1., 3., 7., 9.])"
      ]
     },
     "execution_count": 14,
     "metadata": {},
     "output_type": "execute_result"
    }
   ],
   "source": [
    "tensor = torch.Tensor([\n",
    "    [1, 2, 3], \n",
    "    [4, 5, 6], \n",
    "    [7, 8, 9]\n",
    "])\n",
    "\n",
    "row_indices = torch.LongTensor([0, 0, 2, 2])\n",
    "col_indices = torch.LongTensor([0, 2, 0, 2])\n",
    "\n",
    "for row, col in zip(row_indices, col_indices):\n",
    "    print(f\"Element at row {row} and column {col} is {tensor[row, col]}\")\n",
    "\n",
    "tensor[row_indices, col_indices]\n"
   ]
  },
  {
   "cell_type": "markdown",
   "metadata": {},
   "source": [
    "Man kan også indeksere det samme elementet flere ganger, men dette brukes derimot sjeldent."
   ]
  },
  {
   "cell_type": "code",
   "execution_count": 15,
   "metadata": {},
   "outputs": [
    {
     "data": {
      "text/plain": [
       "tensor([[4., 5., 6.],\n",
       "        [4., 5., 6.],\n",
       "        [4., 5., 6.]])"
      ]
     },
     "execution_count": 15,
     "metadata": {},
     "output_type": "execute_result"
    }
   ],
   "source": [
    "indices = torch.LongTensor([1, 1, 1])\n",
    "tensor[indices] # Returns the second row three times"
   ]
  },
  {
   "cell_type": "markdown",
   "metadata": {},
   "source": [
    "## Boolsk indeksering\n",
    "Boolsk indeksering er svært nyttig, da det tillater spørringer mot elementer i tensorer. Si at vi vil ha alle elementer som er større enn 5."
   ]
  },
  {
   "cell_type": "code",
   "execution_count": 16,
   "metadata": {},
   "outputs": [
    {
     "data": {
      "text/plain": [
       "tensor([[False, False, False],\n",
       "        [False, False,  True],\n",
       "        [ True,  True,  True]])"
      ]
     },
     "execution_count": 16,
     "metadata": {},
     "output_type": "execute_result"
    }
   ],
   "source": [
    "indices = tensor > 5\n",
    "indices\n"
   ]
  },
  {
   "cell_type": "markdown",
   "metadata": {},
   "source": [
    "Indekseringstensoren har samme shape som den originale tensoren, og består av binære verdier. Denne kan brukes direkte for å indeksere på tensoren."
   ]
  },
  {
   "cell_type": "code",
   "execution_count": 17,
   "metadata": {},
   "outputs": [
    {
     "data": {
      "text/plain": [
       "tensor([6., 7., 8., 9.])"
      ]
     },
     "execution_count": 17,
     "metadata": {},
     "output_type": "execute_result"
    }
   ],
   "source": [
    "tensor[indices] "
   ]
  },
  {
   "cell_type": "markdown",
   "metadata": {},
   "source": [
    "Vi kan for eksempel hente ut alle rader der summen av elementene er større enn 10, men mindre enn 20"
   ]
  },
  {
   "cell_type": "code",
   "execution_count": 20,
   "metadata": {},
   "outputs": [
    {
     "data": {
      "text/plain": [
       "tensor([False,  True, False])"
      ]
     },
     "execution_count": 20,
     "metadata": {},
     "output_type": "execute_result"
    }
   ],
   "source": [
    "indices = (tensor.sum(dim=1) > 10) & (tensor.sum(dim=1) < 20)\n",
    "indices\n"
   ]
  },
  {
   "cell_type": "code",
   "execution_count": 21,
   "metadata": {},
   "outputs": [
    {
     "data": {
      "text/plain": [
       "tensor([[4., 5., 6.]])"
      ]
     },
     "execution_count": 21,
     "metadata": {},
     "output_type": "execute_result"
    }
   ],
   "source": [
    "tensor[indices]"
   ]
  }
 ],
 "metadata": {
  "kernelspec": {
   "display_name": "base",
   "language": "python",
   "name": "python3"
  },
  "language_info": {
   "codemirror_mode": {
    "name": "ipython",
    "version": 3
   },
   "file_extension": ".py",
   "mimetype": "text/x-python",
   "name": "python",
   "nbconvert_exporter": "python",
   "pygments_lexer": "ipython3",
   "version": "3.10.13"
  }
 },
 "nbformat": 4,
 "nbformat_minor": 2
}
