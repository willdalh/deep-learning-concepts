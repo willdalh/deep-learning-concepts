{
 "cells": [
  {
   "cell_type": "code",
   "execution_count": 51,
   "metadata": {},
   "outputs": [],
   "source": [
    "from IPython import get_ipython\n",
    "\n",
    "if 'google.colab' in str(get_ipython()):\n",
    "    import torch\n",
    "    from IPython.core.display import HTML\n",
    "    from IPython.display import display\n",
    "    import os\n",
    "    print(\"Running in Google Colab\")\n",
    "    if not torch.cuda.is_available():\n",
    "        display(HTML(\"\"\"<div style=\"background-color: red; font-weight: bold; color: white;\">You have not activated a GPU in Google Colab. Follow the instructions in the <code style=\"color: white;\">README</code></div>\"\"\"))\n",
    "    print(\"Installing requirements\")\n",
    "    requirements_url = \"https://raw.githubusercontent.com/willdalh/ml-course/main/requirements.txt\"\n",
    "    if not os.path.exists('requirements.txt'):\n",
    "        !wget {requirements_url}\n",
    "    %pip install --user -r requirements.txt"
   ]
  },
  {
   "cell_type": "markdown",
   "metadata": {},
   "source": [
    "# Recurrent Neural Networks (RNNs)\n",
    "\n",
    "Før Transformers kom på maskinlærings-banen, var det typisk RNNs man tok i bruk når man skulle modellere språk og tekst. En RNN jobber med sekvensiell data, som gjerne har uforutsigbar lengde. For å håndtere dette bruker man de samme parameterne på hvert element i sekvensen. RNNs har en form for hukommelse gjennom en _hidden state_, som propageres gjennom inference-prosessen. \n",
    "\n",
    "Det finnes flere varianter av RNNs, men den enkleste består av et lineært lag med en aktiveringsfunksjon i midten. Dette laget tar inn en sammenslått vektor bestående av den tidligere hidden state, samt en vektorrepresentasjon av det nåværende ordet i sekvensen. Figuren under illustrerer dette.\n",
    "\n",
    "<img src=\"../res/vanilla-rnn.png\" width=\"700px\" height=\"auto\" alt=\"SVG Image\"/>\n",
    "\n",
    "\n",
    "RNNs kan brukes til mye forskjellig, som sentiment-analyse, oversettelse mellom språk, og [navneenhetsgjenkjenning](https://en.wikipedia.org/wiki/Named-entity_recognition). I denne notebooken skal vi derimot trene en til å generere tekst. Vi skal rett og slett lage en forenklet mini-versjon av ChatGPT. Ytterligere krav til modellen blir da et ekstra lag som brukes på siste hidden state for å lage en sannsynlighetsfordeling over mulige ord. Arkitekturen ser da slik ut:\n",
    "\n",
    "\n",
    "\n",
    "<img src=\"../res/vanilla-rnn-unrolled.svg\" width=\"50%\" height=\"auto\" alt=\"SVG Image\"/>\n",
    "\n",
    "$h_0$ settes vanligvis til en vektor fylt med 0-ere.\n"
   ]
  },
  {
   "cell_type": "code",
   "execution_count": 52,
   "metadata": {},
   "outputs": [],
   "source": [
    "import torch\n",
    "import torch.nn as nn\n",
    "import torch.nn.functional as F\n",
    "from tqdm import tqdm"
   ]
  },
  {
   "cell_type": "markdown",
   "metadata": {},
   "source": [
    "RNNs er selvfølgelig tilgjengelig som en modul i Pytorch, gjennom [`torch.nn.RNN`](https://pytorch.org/docs/stable/generated/torch.nn.RNN.html), men vi skal implementere denne selv for å forstå bedre hva som skjer 😄\n",
    "\n",
    "Som diskutert i `nlp.ipynb`, representerer man ord som vektorer, kalt embeddings. Modeller som BERT tar i bruk konteksten i en setning for å lage embeddings til hvert ord. Til vår enkle RNN, kommer vi til å bruke en word2vec-løsning (gjennom [`nn.Embedding`](https://pytorch.org/docs/stable/generated/torch.nn.Embedding.html)), hvor hvert ord har en vektorrepresentasjon som trenes sammen med RNN-en. Denne er i bunn og grunn et lookup-table, som tar indekser som input. Derfor må vi implementere en prosess som kalles for _tokenization_, hvor ord oversettes til unike IDer. "
   ]
  },
  {
   "cell_type": "code",
   "execution_count": 53,
   "metadata": {},
   "outputs": [],
   "source": [
    "# RNN model trained to predict the next word in a sentence\n",
    "class VanillaRNN(nn.Module):\n",
    "    def __init__(self, target_sentences, lr=0.001):\n",
    "        super().__init__()\n",
    "\n",
    "        # Preprocess the data\n",
    "        self.target_sentences = [f\"<START> {sentence.strip().lower()} <END>\" for sentence in target_sentences] # Add start and end tokens to indicate the beginning and end of a sentence\n",
    "        self.vocab = list(set(\" \".join(self.target_sentences).split(\" \"))) # List of all unique words in the dataset\n",
    "        self.vocab_size = len(self.vocab)\n",
    "\n",
    "        self.hidden_size = 128 # Size of the hidden state that is passed between each word\n",
    "        self.embedding_size = 64 # Size of the representation of each word\n",
    "\n",
    "\n",
    "        self.embedding = nn.Embedding(self.vocab_size, self.embedding_size) # Represent each word as a vector. This layer takes in a word index and outputs a vector of size embedding_size\n",
    "        self.internal_layer = nn.Linear(self.embedding_size + self.hidden_size, self.hidden_size) # Combine embedding and previous hidden state to get new hidden state\n",
    "        self.last_layer = nn.Linear(self.hidden_size, self.vocab_size) # Get logits for each word in the vocab\n",
    "\n",
    "        self.loss_fn = nn.CrossEntropyLoss()\n",
    "        self.optimizer = torch.optim.Adam(self.parameters(), lr=lr)\n",
    "    \n",
    "    def tokenize(self, word):\n",
    "        return torch.LongTensor([self.vocab.index(word)])\n",
    "\n",
    "    def logits(self, sentence):\n",
    "        # Initialize hidden state for sequence\n",
    "        hidden = torch.zeros(1, self.hidden_size)\n",
    "\n",
    "        # Process each token in the sequence\n",
    "        split = sentence.split(\" \")\n",
    "        # Check if the word is in the vocab\n",
    "        if not all([word in self.vocab for word in split]):\n",
    "            raise ValueError(\"Word not in vocab\")\n",
    "        \n",
    "        # Iterate through each word in the sequence\n",
    "        for elem in split:\n",
    "            token = self.tokenize(elem)\n",
    "            embedding = self.embedding(token)\n",
    "            input_data = torch.cat((embedding, hidden), dim=1)\n",
    "            hidden = self.internal_layer(input_data)\n",
    "            hidden = F.tanh(hidden)\n",
    "            \n",
    "        # The last hidden state should go through the last layer\n",
    "        output = self.last_layer(hidden)\n",
    "\n",
    "        return output\n",
    "    \n",
    "    def get_prob_dist_over_next_word(self, sentence: str):\n",
    "        dist = self.forward(sentence)[0]\n",
    "        return {self.vocab[i]: dist[i].item() for i in range(len(dist))} # Dictionary mapping each word to its probability\n",
    "\n",
    "    def forward(self, sentence):\n",
    "        return F.softmax(self.logits(sentence), dim=1)\n",
    "    \n",
    "    def predict(self, sentence):\n",
    "        result = self.vocab[torch.argmax(self.forward(sentence.strip()))]\n",
    "        return result\n",
    "    \n",
    "    def complete_sentence(self, sentence, max_len=100):\n",
    "        result = sentence.strip()\n",
    "        new_token = \"\"\n",
    "\n",
    "        with torch.no_grad(): # Disable logging to computational graph\n",
    "            while not new_token == \"<END>\":\n",
    "                new_token = self.predict(result)\n",
    "                if len(result.split(\" \")) >= max_len:\n",
    "                    break\n",
    "                result += \" \" + new_token\n",
    "        return result\n",
    "\n",
    "    def train(self, num_epochs=10):\n",
    "        for epoch in tqdm(range(num_epochs), unit=\"epoch\"):\n",
    "            for sentence in self.target_sentences:\n",
    "                split_sentence = sentence.split(\" \")\n",
    "                for i in range(len(split_sentence) - 1):\n",
    "                    self.optimizer.zero_grad()\n",
    "                    input_data = split_sentence[:i+1]\n",
    "                    target = split_sentence[i+1]\n",
    "                    output = self.forward(\" \".join(input_data))\n",
    "                    loss = self.loss_fn(output, self.tokenize(target))\n",
    "                    loss.backward()\n",
    "                    self.optimizer.step()\n",
    "        \n",
    "                        "
   ]
  },
  {
   "cell_type": "markdown",
   "metadata": {},
   "source": [
    "Før vi trener modellen sjekker vi at den **ikke** klarer å skrive setninger som gir mening"
   ]
  },
  {
   "cell_type": "code",
   "execution_count": 54,
   "metadata": {},
   "outputs": [
    {
     "data": {
      "text/plain": [
       "'<START> i kodekurs kodekurs fordi fordi lærer <START> <START> i et et et et et et et et et et et et et et et et et et et et et et et et et et et et et et et et et et et et et et et et et et et et et et et et et et et et et et et et et et et et et et et et et et et et et et et et et et et et et et et et et et et et et et et et et et'"
      ]
     },
     "execution_count": 54,
     "metadata": {},
     "output_type": "execute_result"
    }
   ],
   "source": [
    "target_sentences = [\"dette er et kodekurs i maskinlæring\", \"kodekurset er gøy fordi man lærer mye\"]\n",
    "rnn = VanillaRNN(target_sentences)\n",
    "rnn.complete_sentence(\"<START>\")"
   ]
  },
  {
   "cell_type": "code",
   "execution_count": 55,
   "metadata": {},
   "outputs": [
    {
     "name": "stderr",
     "output_type": "stream",
     "text": [
      "100%|██████████| 10/10 [00:00<00:00, 18.04epoch/s]\n"
     ]
    }
   ],
   "source": [
    "rnn.train(num_epochs=10)"
   ]
  },
  {
   "cell_type": "code",
   "execution_count": 56,
   "metadata": {},
   "outputs": [
    {
     "data": {
      "text/plain": [
       "'<START> dette er et kodekurs i maskinlæring <END>'"
      ]
     },
     "execution_count": 56,
     "metadata": {},
     "output_type": "execute_result"
    }
   ],
   "source": [
    "rnn.complete_sentence(\"<START>\")"
   ]
  },
  {
   "cell_type": "code",
   "execution_count": 57,
   "metadata": {},
   "outputs": [
    {
     "data": {
      "text/plain": [
       "{'lærer': 0.0009412957588210702,\n",
       " 'dette': 0.001342426403425634,\n",
       " 'i': 0.002125209430232644,\n",
       " 'gøy': 0.0008377221529372036,\n",
       " 'kodekurs': 0.9760220646858215,\n",
       " 'et': 0.0034746816381812096,\n",
       " '<START>': 0.0014530000044032931,\n",
       " 'man': 0.0013609351590275764,\n",
       " 'kodekurset': 0.0016017730813473463,\n",
       " 'mye': 0.0010734465904533863,\n",
       " 'er': 0.0015247544506564736,\n",
       " 'fordi': 0.0068193841725587845,\n",
       " '<END>': 0.00026769781834445894,\n",
       " 'maskinlæring': 0.0011555951787158847}"
      ]
     },
     "execution_count": 57,
     "metadata": {},
     "output_type": "execute_result"
    }
   ],
   "source": [
    "dist = rnn.get_prob_dist_over_next_word(\"<START> dette er et\")\n",
    "dist"
   ]
  },
  {
   "cell_type": "code",
   "execution_count": 58,
   "metadata": {},
   "outputs": [
    {
     "data": {
      "image/png": "[encoded data removed]",
      "text/plain": [
       "<Figure size 640x480 with 1 Axes>"
      ]
     },
     "metadata": {},
     "output_type": "display_data"
    }
   ],
   "source": [
    "import matplotlib.pyplot as plt\n",
    "plt.bar(dist.keys(), dist.values())\n",
    "plt.xticks(rotation=90)\n",
    "plt.title(\"Probability distribution over the next word\")\n",
    "plt.show()"
   ]
  }
 ],
 "metadata": {
  "kernelspec": {
   "display_name": "base",
   "language": "python",
   "name": "python3"
  },
  "language_info": {
   "codemirror_mode": {
    "name": "ipython",
    "version": 3
   },
   "file_extension": ".py",
   "mimetype": "text/x-python",
   "name": "python",
   "nbconvert_exporter": "python",
   "pygments_lexer": "ipython3",
   "version": "3.11.10"
  }
 },
 "nbformat": 4,
 "nbformat_minor": 2
}
